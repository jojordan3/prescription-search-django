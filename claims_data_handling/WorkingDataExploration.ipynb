{
 "cells": [
  {
   "cell_type": "code",
   "execution_count": 1,
   "metadata": {},
   "outputs": [],
   "source": [
    "# https://www.w3schools.com/sql/trysql.asp?filename=trysql_select_all\n",
    "\n",
    "import sqlite3"
   ]
  },
  {
   "cell_type": "code",
   "execution_count": 13,
   "metadata": {},
   "outputs": [],
   "source": [
    "data = [('Alfreds Futterkiste', 'Maria Anders', 'Obere Str. 57', 'Berlin', '12209', 'Germany'),\n",
    "        ('Ana Trujillo Emparedados y helados', 'Ana Trujillo', 'Avda. de la Constitución 2222', 'México D.F.', '05021', 'Mexico'),\n",
    "        ('Antonio Moreno Taquería', 'Antonio Moreno', 'Mataderos 2312', 'México D.F.', '05023', 'Mexico')]\n",
    "\n",
    "def make_table(data):\n",
    "    CONN = sqlite3.connect('live_demo.sqlite')\n",
    "    cur = CONN.cursor()\n",
    "    # Create table\n",
    "    cur.execute(\"\"\"CREATE TABLE Customers\n",
    "        (CustomerID INTEGER PRIMARY KEY AUTOINCREMENT NOT NULL, CustomerName text NOT NULL,\n",
    "        ContactName text NOT NULL, Address text NOT NULL,\n",
    "        City text, PostalCode nchar(5), Country text)\"\"\")\n",
    "    # Add data to table\n",
    "    for customer in data:\n",
    "        cur.execute(\"\"\"INSERT INTO Customers (CustomerName,\n",
    "            ContactName, Address, City, PostalCode, Country) VALUES \"\"\" + str(customer))\n",
    "        \n",
    "    cur.close()\n",
    "    CONN.commit()\n",
    "    \n",
    "    "
   ]
  },
  {
   "cell_type": "code",
   "execution_count": 14,
   "metadata": {},
   "outputs": [],
   "source": [
    "make_table(data)"
   ]
  },
  {
   "cell_type": "code",
   "execution_count": 15,
   "metadata": {},
   "outputs": [
    {
     "data": {
      "text/plain": [
       "<sqlite3.Cursor at 0x105265f10>"
      ]
     },
     "execution_count": 15,
     "metadata": {},
     "output_type": "execute_result"
    }
   ],
   "source": [
    "CONN = sqlite3.connect('live_demo.sqlite')\n",
    "cur = CONN.cursor()\n",
    "\n",
    "cur.execute(\"\"\"SELECT * FROM Customers\"\"\")"
   ]
  },
  {
   "cell_type": "code",
   "execution_count": 16,
   "metadata": {},
   "outputs": [
    {
     "data": {
      "text/plain": [
       "[(1,\n",
       "  'Alfreds Futterkiste',\n",
       "  'Maria Anders',\n",
       "  'Obere Str. 57',\n",
       "  'Berlin',\n",
       "  '12209',\n",
       "  'Germany'),\n",
       " (2,\n",
       "  'Ana Trujillo Emparedados y helados',\n",
       "  'Ana Trujillo',\n",
       "  'Avda. de la Constitución 2222',\n",
       "  'México D.F.',\n",
       "  '05021',\n",
       "  'Mexico'),\n",
       " (3,\n",
       "  'Antonio Moreno Taquería',\n",
       "  'Antonio Moreno',\n",
       "  'Mataderos 2312',\n",
       "  'México D.F.',\n",
       "  '05023',\n",
       "  'Mexico')]"
      ]
     },
     "execution_count": 16,
     "metadata": {},
     "output_type": "execute_result"
    }
   ],
   "source": [
    "cur.fetchall()"
   ]
  },
  {
   "cell_type": "code",
   "execution_count": 17,
   "metadata": {},
   "outputs": [],
   "source": [
    "cur.close()\n",
    "CONN.close()"
   ]
  },
  {
   "cell_type": "code",
   "execution_count": null,
   "metadata": {},
   "outputs": [],
   "source": [
    "# foreign keys? https://www.sqlite.org/foreignkeys.html"
   ]
  }
 ],
 "metadata": {
  "kernelspec": {
   "display_name": "Python 3",
   "language": "python",
   "name": "python3"
  },
  "language_info": {
   "codemirror_mode": {
    "name": "ipython",
    "version": 3
   },
   "file_extension": ".py",
   "mimetype": "text/x-python",
   "name": "python",
   "nbconvert_exporter": "python",
   "pygments_lexer": "ipython3",
   "version": "3.6.5"
  }
 },
 "nbformat": 4,
 "nbformat_minor": 2
}
